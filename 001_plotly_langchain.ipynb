{
 "cells": [
  {
   "cell_type": "markdown",
   "id": "bc6447d5-3211-41d5-9af5-27100002ae73",
   "metadata": {},
   "source": [
    "# Plotly + LangGraph\n",
    "# 📊 + 🦜🔗\n",
    "This notebook is an minimal viable code to create a LangGraph Agent capable of creating Plotly Graphing Object plots."
   ]
  },
  {
   "cell_type": "markdown",
   "id": "91475e8d-c992-474e-9642-4147e05b433f",
   "metadata": {},
   "source": [
    "  "
   ]
  },
  {
   "cell_type": "markdown",
   "id": "9f5fd0f9-775f-48f9-a1a1-3c8694a5c4aa",
   "metadata": {},
   "source": [
    "  "
   ]
  },
  {
   "cell_type": "markdown",
   "id": "ae8bf746-9110-4bee-8da3-8e8f1b681a20",
   "metadata": {},
   "source": [
    "  "
   ]
  },
  {
   "cell_type": "markdown",
   "id": "c7f465f6-b9ac-4b46-a8fa-fbef2cb2fd3a",
   "metadata": {},
   "source": [
    "#### NVIDIA CUDA-X for Data Science"
   ]
  },
  {
   "cell_type": "code",
   "execution_count": 1,
   "id": "84b2fa94-4a77-49e7-8672-9eff5bc7ef5d",
   "metadata": {},
   "outputs": [],
   "source": [
    "# %load_ext cudf.pandas\n",
    "# ~ OR ~\n",
    "# import cudf.pandas\n",
    "# cudf.pandas.install()\n",
    "# ~ OR ~ \n",
    "# > python -m cudf.pandas app.py\n",
    "\n",
    "# uv add cudf-cu12  OR  uv add cudf-cu13 \n",
    "# to check CUDA version, run `nvidia-smi` and top-left of output\n",
    "\n",
    "# https://developer.nvidia.com/topics/ai/data-science/cuda-x-data-science-libraries/cudf"
   ]
  },
  {
   "cell_type": "code",
   "execution_count": 2,
   "id": "be2f36ac-0ebb-4772-9400-275a3fd8e170",
   "metadata": {},
   "outputs": [
    {
     "data": {
      "text/plain": [
       "<module 'pandas' from '/home/will/git/Agents-Simplified-Notebooks/.venv/lib/python3.11/site-packages/pandas/__init__.py'>"
      ]
     },
     "execution_count": 2,
     "metadata": {},
     "output_type": "execute_result"
    }
   ],
   "source": [
    "# cudf.pandas will accelerte pandas on GPU\n",
    "import pandas as pd\n",
    "pd"
   ]
  },
  {
   "cell_type": "markdown",
   "id": "79d6deb3-5039-4ecd-9c1c-a43dcfec43c4",
   "metadata": {},
   "source": [
    "  "
   ]
  },
  {
   "cell_type": "code",
   "execution_count": 3,
   "id": "0d533e3a-756c-411b-a3ff-6fe77e10e055",
   "metadata": {},
   "outputs": [],
   "source": [
    "# using the richer Graph Objects instead of Express\n",
    "# uv add plotly\n",
    "\n",
    "import plotly.graph_objects as go"
   ]
  },
  {
   "cell_type": "code",
   "execution_count": 4,
   "id": "779a66c4-ea87-44c9-b041-80216d8d24ea",
   "metadata": {},
   "outputs": [],
   "source": [
    "# Various LangGraph and LangChain libraries\n",
    "# uv add langgraph langchain-openai\n",
    "\n",
    "from langgraph.graph import StateGraph, MessagesState, START, END\n",
    "from langchain_core.messages import HumanMessage, SystemMessage\n",
    "from langgraph.checkpoint.memory import MemorySaver\n",
    "from langgraph.prebuilt import ToolNode\n",
    "from langchain_openai import ChatOpenAI\n",
    "import langchain_core"
   ]
  },
  {
   "cell_type": "code",
   "execution_count": 5,
   "id": "5db322f5-07f7-4eb8-bded-d1fcc19ca0cf",
   "metadata": {},
   "outputs": [],
   "source": [
    "# Read environment variables like NVIDIA_API_KEY= from .env \n",
    "# uv add python-dotenv\n",
    "\n",
    "import os\n",
    "from dotenv import load_dotenv"
   ]
  },
  {
   "cell_type": "code",
   "execution_count": 6,
   "id": "6bf511be-9bfb-482a-a2b1-4abb0d4143aa",
   "metadata": {},
   "outputs": [],
   "source": [
    "# === LLM setup\n",
    "# build.nvidia.com\n",
    "load_dotenv(override=True)\n",
    "\n",
    "llm = ChatOpenAI(\n",
    "    \n",
    "    # https://build.nvidia.com/models\n",
    "    model=\"qwen/qwen3-coder-480b-a35b-instruct\",\n",
    "    \n",
    "    # free API key at build.nvidia.com\n",
    "    # read from .env with load_dotenv\n",
    "    api_key=os.getenv(\"NVIDIA_API_KEY\"), \n",
    "    base_url=\"https://integrate.api.nvidia.com/v1\",    \n",
    "\n",
    "    # use lower temp to minimize reasoning loops\n",
    "    temperature=0.1,\n",
    "\n",
    "    # plotly code should not take that many tokens\n",
    "    max_tokens=500,\n",
    ")"
   ]
  },
  {
   "cell_type": "code",
   "execution_count": 7,
   "id": "f3f466f1-1522-4f15-95ba-3bddb22843a7",
   "metadata": {},
   "outputs": [
    {
     "data": {
      "text/html": [
       "<div>\n",
       "<style scoped>\n",
       "    .dataframe tbody tr th:only-of-type {\n",
       "        vertical-align: middle;\n",
       "    }\n",
       "\n",
       "    .dataframe tbody tr th {\n",
       "        vertical-align: top;\n",
       "    }\n",
       "\n",
       "    .dataframe thead th {\n",
       "        text-align: right;\n",
       "    }\n",
       "</style>\n",
       "<table border=\"1\" class=\"dataframe\">\n",
       "  <thead>\n",
       "    <tr style=\"text-align: right;\">\n",
       "      <th></th>\n",
       "      <th>date</th>\n",
       "      <th>sales</th>\n",
       "      <th>profit</th>\n",
       "    </tr>\n",
       "  </thead>\n",
       "  <tbody>\n",
       "    <tr>\n",
       "      <th>0</th>\n",
       "      <td>2024-01-01</td>\n",
       "      <td>100</td>\n",
       "      <td>20</td>\n",
       "    </tr>\n",
       "    <tr>\n",
       "      <th>1</th>\n",
       "      <td>2024-01-02</td>\n",
       "      <td>120</td>\n",
       "      <td>25</td>\n",
       "    </tr>\n",
       "    <tr>\n",
       "      <th>2</th>\n",
       "      <td>2024-01-03</td>\n",
       "      <td>115</td>\n",
       "      <td>23</td>\n",
       "    </tr>\n",
       "  </tbody>\n",
       "</table>\n",
       "</div>"
      ],
      "text/plain": [
       "        date  sales  profit\n",
       "0 2024-01-01    100      20\n",
       "1 2024-01-02    120      25\n",
       "2 2024-01-03    115      23"
      ]
     },
     "execution_count": 7,
     "metadata": {},
     "output_type": "execute_result"
    }
   ],
   "source": [
    "# === Sample Data ===\n",
    "df = pd.DataFrame({\n",
    "    'date': pd.date_range('2024-01-01', periods=10),\n",
    "    'sales': [100, 120, 115, 140, 160, 155, 180, 190, 185, 200],\n",
    "    'profit': [20, 25, 23, 30, 35, 33, 40, 42, 41, 45]\n",
    "})\n",
    "df.head(3)"
   ]
  },
  {
   "cell_type": "markdown",
   "id": "10f44bb5-b771-469e-b979-e2d34bb9535b",
   "metadata": {},
   "source": [
    "# 🛠️ Tools 🛠️"
   ]
  },
  {
   "cell_type": "markdown",
   "id": "2881f0dd-e0bd-4f8b-8939-5c0e95911f5a",
   "metadata": {},
   "source": [
    "This function takes the LLM output and\n",
    " - ✅ is it 🐍 ?\n",
    " - ✅ is it 📊 ?\n",
    " - ✅ have  💾 ?\n",
    " - ✅ have  💬 ?"
   ]
  },
  {
   "cell_type": "code",
   "execution_count": 8,
   "id": "f6680dd3-c4e6-490c-af98-9a6279401e96",
   "metadata": {},
   "outputs": [],
   "source": [
    "# ===Tools ===\n",
    "def verify_figure(code: str, prompt: str) -> str:\n",
    "    \"\"\"Verify the figure matches the prompt.\n",
    "    (1) Is it executable 🐍 Python 🐍 ?\n",
    "    (2) Does it have 'fig' variable in namespace ?\n",
    "    (3) Is 'fig' instance of 📊 go.Figure 📊 ? \n",
    "    (4) Does 'fig' have 💾 data 💾 trace(s) ?\n",
    "    (5) Does 'fig' have a 💬 title 💬 ?\n",
    "    \"\"\"\n",
    "    try:\n",
    "\n",
    "        \n",
    "        # (1) Is it executable 🐍 Python 🐍 ?\n",
    "        namespace = {'pd': pd, 'go': go, 'df': df}\n",
    "        exec(code, namespace)\n",
    "        fig = namespace.get('fig')\n",
    "\n",
    "        \n",
    "        # (2) Does it have 'fig' variable in namespace ?\n",
    "        if 'fig' not in namespace:\n",
    "            return \"❌ Code doesn't create 'fig'\"\n",
    "\n",
    "        \n",
    "        # (3) Is 'fig' instance of 📊 go.Figure 📊 ? \n",
    "        if not isinstance(namespace['fig'], go.Figure):\n",
    "            return \"❌ 'fig' is not a plotly graph object Figure\"        \n",
    "\n",
    "        \n",
    "        # (4) Does 'fig' have 💾 data 💾 trace(s) ?\n",
    "        checks = [f\"✅ Figure has {len(fig.data)} trace(s)\"]\n",
    "\n",
    "        \n",
    "        # (5) Does 'fig' have a 💬 title 💬 ?\n",
    "        if fig.layout.title.text:\n",
    "            checks.append(f\"✅ Title: '{fig.layout.title.text}'\")\n",
    "\n",
    "        # Return errors encountered\n",
    "        return \"\\n\".join(checks)\n",
    "\n",
    "        \n",
    "    except Exception as e:\n",
    "        # Return errors encountered\n",
    "        return f\"❌ Error: {str(e)}\""
   ]
  },
  {
   "cell_type": "markdown",
   "id": "a9c7ecae-3ae5-4897-aa0a-10eabf08fe91",
   "metadata": {},
   "source": [
    "# 🦜🔗 LangGraph Agent 🦜🔗"
   ]
  },
  {
   "cell_type": "markdown",
   "id": "b94873fb-0b79-4b10-8b75-5fdf7de130d2",
   "metadata": {},
   "source": [
    "This is the newer LangGraph API for building sophisticate agents  \n",
    "https://www.langchain.com/langgraph"
   ]
  },
  {
   "cell_type": "code",
   "execution_count": 9,
   "id": "974ce206-8377-4b32-bc02-0db3dc579404",
   "metadata": {},
   "outputs": [],
   "source": [
    "# === Create \"Agent\" (LLM w/ Tools) ===\n",
    "\n",
    "# verify_figure() defined above\n",
    "tools = [verify_figure]\n",
    "\n",
    "# this is the new 'agent' about as simple as possible\n",
    "llm_with_tools = llm.bind_tools(tools)\n",
    "\n",
    "# the graph will use these two functions to chose path through the graph\n",
    "def call_model(state: MessagesState):\n",
    "    return {\"messages\": [llm_with_tools.invoke(state[\"messages\"])]}\n",
    "\n",
    "def should_continue(state: MessagesState):\n",
    "    return \"tools\" if state[\"messages\"][-1].tool_calls else END\n",
    "\n",
    "# Create and compile the graph\n",
    "graph = StateGraph(MessagesState)\n",
    "graph.add_node(\"agent\", call_model)\n",
    "graph.add_node(\"tools\", ToolNode(tools))\n",
    "graph.add_edge(START, \"agent\")\n",
    "graph.add_conditional_edges(\"agent\", should_continue, [\"tools\", END])\n",
    "graph.add_edge(\"tools\", \"agent\")\n",
    "\n",
    "agent = graph.compile(checkpointer=MemorySaver())"
   ]
  },
  {
   "cell_type": "code",
   "execution_count": 10,
   "id": "911f1ba6-e761-43fe-836f-805cb4fbc61e",
   "metadata": {},
   "outputs": [
    {
     "data": {
      "image/png": "[encoded data removed]",
      "text/plain": [
       "<langgraph.graph.state.CompiledStateGraph object at 0x745438d423d0>"
      ]
     },
     "execution_count": 10,
     "metadata": {},
     "output_type": "execute_result"
    }
   ],
   "source": [
    "# Visualize Agent Graph\n",
    "agent"
   ]
  },
  {
   "cell_type": "code",
   "execution_count": 11,
   "id": "88e2e31e-5236-49d3-8e2c-009aae874f90",
   "metadata": {},
   "outputs": [],
   "source": [
    "# == SYSTEM MESSAGE ==\n",
    "# As I was testing my agent, I added a command for each mistake the agent repeatedly made\n",
    "system_msg = SystemMessage(content=f\"\"\"\n",
    "Generate Python code that creates a plotly figure.\n",
    "\n",
    "IMPORTANT: \n",
    "- DataFrame 'df' EXISTS in memory w/ columns: {list(df.columns)}\n",
    "- DO create the figure using the existing 'df' variable\n",
    "- DO NOT recreate the dataframe\n",
    "- DO NOT wrap code in a function - write direct inline code\n",
    "\n",
    "Requirements:\n",
    "- Import plotly.graph_objects as go (NOT plotly.express)\n",
    "- Create variable 'fig' using go.Figure() with go.Scatter() traces\n",
    "- Use verification tools to check your code\n",
    "\n",
    "Example format:\n",
    "import plotly.graph_objects as go\n",
    "fig = go.Figure()\n",
    "fig.add_trace(go.Scatter(x=df['date'], y=df['sales'], mode='lines'))\n",
    "\n",
    "Return ONLY executable Python code, no function definitions.\n",
    "DO NOT RETURN PROSE JUST CODE!!!\n",
    "\"\"\")"
   ]
  },
  {
   "cell_type": "code",
   "execution_count": 12,
   "id": "ceeac0a2-bea4-4400-9350-2625c63a2ff3",
   "metadata": {},
   "outputs": [],
   "source": [
    "# AGENT EXECUTOR\n",
    "def agent_executor(human_prompt, thread_id):\n",
    "\n",
    "    # You must have a config with thread_id to check conversations\n",
    "    config = {\"configurable\": {\"thread_id\": thread_id}}\n",
    "    result = agent.invoke({\"messages\": [system_msg, HumanMessage(content=prompt)]}, config=config) \n",
    "\n",
    "\n",
    "    # --- Extract the code from the AI Message --    \n",
    "    # (1) Reverse loop (start at last message) through messages\n",
    "    # (2) Check if message is AI Message\n",
    "    # (3) Check if 'fig' in message\n",
    "    # (4) Save message to 'code'\n",
    "    # (5) Run the code\n",
    "    # (6) Return the 'fig' object and conversation (result')\n",
    "\n",
    "    # (1) Reverse loop (start at last message) through messages\n",
    "    for message in result['messages'][::-1]:  \n",
    "        # (2) Check if message is AI Message\n",
    "        if (type(message) == langchain_core.messages.ai.AIMessage \n",
    "            # (3) Check if 'fig' in message\n",
    "            and 'fig' in message.content):\n",
    "\n",
    "            # (4) Save message to 'code'\n",
    "            code = message.content\n",
    "            break\n",
    "\n",
    "    # (5) Run the code\n",
    "    namespace = {'pd': pd, 'go': go, 'df': df}\n",
    "    exec(code, namespace)\n",
    "\n",
    "    # (6) Return the 'fig' object and conversation (result')\n",
    "    return namespace['fig'], result"
   ]
  },
  {
   "cell_type": "code",
   "execution_count": 13,
   "id": "d5c6f827-dffb-4d20-955d-97d766a0079b",
   "metadata": {},
   "outputs": [],
   "source": [
    "# This tracks each conversation the agent has\n",
    "# It can be a string like a UUID or a number like here\n",
    "thread_id = 0"
   ]
  },
  {
   "cell_type": "markdown",
   "id": "c54cb580-e686-4f03-bfe4-f7f6eae3d5bd",
   "metadata": {},
   "source": [
    "### 📊 Et voilà 📊"
   ]
  },
  {
   "cell_type": "code",
   "execution_count": null,
   "id": "754b3aa0-2954-4011-8046-74a1a38c9877",
   "metadata": {},
   "outputs": [],
   "source": [
    "prompt = \"\"\"\n",
    "         Create a line plot showing sales over time.          \n",
    "         Use Plotly dark theme.\n",
    "         \"\"\"\n",
    "fig, result = agent_executor(prompt, thread_id)\n",
    "fig.show()"
   ]
  },
  {
   "cell_type": "markdown",
   "id": "a46b8952-d9ee-478d-bd8b-038e429a878c",
   "metadata": {},
   "source": [
    "# 💬 Inspect the Convo 💬"
   ]
  },
  {
   "cell_type": "code",
   "execution_count": 26,
   "id": "3846499f-b61b-4244-80f5-536d43ba14eb",
   "metadata": {},
   "outputs": [
    {
     "name": "stdout",
     "output_type": "stream",
     "text": [
      "=======================================================\n",
      "-------------------------------------------------------\n",
      "<class 'langchain_core.messages.system.SystemMessage'>\n",
      "-------------------------------------------------------\n",
      "\n",
      "Generate Python code that creates a plotly figure.\n",
      "\n",
      "IMPORTANT: \n",
      "- DataFrame 'df' EXISTS in memory w/ columns: ['date', 'sales', 'profit']\n",
      "- DO create the figure using the existing 'df' variable\n",
      "- DO NOT recreate the dataframe\n",
      "- DO NOT wrap code in a function - write direct inline code\n",
      "\n",
      "Requirements:\n",
      "- Import plotly.graph_objects as go (NOT plotly.express)\n",
      "- Create variable 'fig' using go.Figure() with go.Scatter() traces\n",
      "- Use verification tools to check your code\n",
      "\n",
      "Example format:\n",
      "import plotly.graph_objects as go\n",
      "fig = go.Figure()\n",
      "fig.add_trace(go.Scatter(x=df['date'], y=df['sales'], mode='lines'))\n",
      "\n",
      "Return ONLY executable Python code, no function definitions.\n",
      "DO NOT RETURN PROSE JUST CODE!!!\n",
      "\n",
      "\n",
      "-------------------------------------------------------\n",
      "<class 'langchain_core.messages.human.HumanMessage'>\n",
      "-------------------------------------------------------\n",
      "\n",
      "         Create a line plot showing sales over time.          \n",
      "         DO NOT forget the line for sales!\n",
      "         Display X-Axis as dates, not numbers\n",
      "         DO NOT forget the line for sales!\n",
      "         Use Plotly dark theme.\n",
      "         \n",
      "\n",
      "-------------------------------------------------------\n",
      "<class 'langchain_core.messages.ai.AIMessage'>\n",
      "-------------------------------------------------------\n",
      "import plotly.graph_objects as go\n",
      "fig = go.Figure()\n",
      "fig.add_trace(go.Scatter(x=df['date'], y=df['sales'], mode='lines', name='Sales'))\n",
      "fig.update_layout(template='plotly_dark')\n",
      "fig.update_xaxes(type='date')\n",
      "\n",
      "=======================================================\n"
     ]
    }
   ],
   "source": [
    "print('='*55)\n",
    "for message in result['messages']:  \n",
    "    print('-'*55)\n",
    "    print(type(message))\n",
    "    print('-'*55)\n",
    "    print(message.content)\n",
    "    print()\n",
    "print('='*55)"
   ]
  },
  {
   "cell_type": "markdown",
   "id": "ea060d27-ef3a-4bbe-bfea-c9d37b2c7fc0",
   "metadata": {},
   "source": [
    "  "
   ]
  },
  {
   "cell_type": "markdown",
   "id": "56b0b375-dad9-4da8-a558-d1a020a7c949",
   "metadata": {},
   "source": [
    "  "
   ]
  },
  {
   "cell_type": "markdown",
   "id": "fd8bd523-a3dd-4c7c-b499-3e60b24788a7",
   "metadata": {},
   "source": [
    "  "
   ]
  }
 ],
 "metadata": {
  "kernelspec": {
   "display_name": "Python 3 (ipykernel)",
   "language": "python",
   "name": "python3"
  },
  "language_info": {
   "codemirror_mode": {
    "name": "ipython",
    "version": 3
   },
   "file_extension": ".py",
   "mimetype": "text/x-python",
   "name": "python",
   "nbconvert_exporter": "python",
   "pygments_lexer": "ipython3",
   "version": "3.11.11"
  }
 },
 "nbformat": 4,
 "nbformat_minor": 5
}
